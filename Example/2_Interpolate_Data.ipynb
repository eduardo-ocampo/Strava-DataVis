{
 "cells": [
  {
   "cell_type": "markdown",
   "metadata": {},
   "source": [
    "## Load Dataset"
   ]
  },
  {
   "cell_type": "markdown",
   "metadata": {},
   "source": [
    "Set Strava-DataVis imports"
   ]
  },
  {
   "cell_type": "code",
   "execution_count": 1,
   "metadata": {},
   "outputs": [],
   "source": [
    "from calcs import convert\n",
    "from formats import formats\n",
    "from calcs import interpolate as calcintrp"
   ]
  },
  {
   "cell_type": "markdown",
   "metadata": {},
   "source": [
    "Set Python imports"
   ]
  },
  {
   "cell_type": "code",
   "execution_count": 2,
   "metadata": {},
   "outputs": [],
   "source": [
    "from scipy import interpolate"
   ]
  },
  {
   "cell_type": "markdown",
   "metadata": {},
   "source": [
    "Load excel file outputted from 1_Parse_fit_Files example set"
   ]
  },
  {
   "cell_type": "code",
   "execution_count": 3,
   "metadata": {},
   "outputs": [
    {
     "data": {
      "text/plain": [
       "147"
      ]
     },
     "execution_count": 3,
     "metadata": {},
     "output_type": "execute_result"
    }
   ],
   "source": [
    "# load dateset from folder\n",
    "parsed_dir = \"datasets/Seattle_Dataset\" \n",
    "strava_data = formats.read_xlsx(parsed_dir)\n",
    "len(strava_data['activities'])"
   ]
  },
  {
   "cell_type": "markdown",
   "metadata": {},
   "source": [
    "Check for corrupt data"
   ]
  },
  {
   "cell_type": "code",
   "execution_count": 4,
   "metadata": {},
   "outputs": [
    {
     "data": {
      "text/plain": [
       "[]"
      ]
     },
     "execution_count": 4,
     "metadata": {},
     "output_type": "execute_result"
    }
   ],
   "source": [
    "corrupted_files = []\n",
    "for a_key in strava_data['activities'].keys():\n",
    "    t_stmp = strava_data['activities'][a_key]['timestamp']\n",
    "    if t_stmp.size == 0:\n",
    "        corrupted_files.append(a_key)\n",
    "corrupted_files"
   ]
  },
  {
   "cell_type": "markdown",
   "metadata": {},
   "source": [
    "## Interpolate Data"
   ]
  },
  {
   "attachments": {},
   "cell_type": "markdown",
   "metadata": {},
   "source": [
    "It is not guaranteed that each recorded activity will record data at the same rate. For example, lets plot the 'timestamp' column for a few activities and create a new column for elapsed time."
   ]
  },
  {
   "cell_type": "code",
   "execution_count": 5,
   "metadata": {},
   "outputs": [],
   "source": [
    "import matplotlib.pyplot as plt"
   ]
  },
  {
   "cell_type": "code",
   "execution_count": 6,
   "metadata": {},
   "outputs": [],
   "source": [
    "# Calculate elapsed time\n",
    "# elapsed time = timestamp[i] - timestamp[0]\n",
    "for a_key in strava_data['activities'].keys():\n",
    "    t_stmp = strava_data['activities'][a_key]['timestamp']\n",
    "    strava_data['activities'][a_key]['elpsd_time'] = t_stmp - t_stmp[0]"
   ]
  },
  {
   "cell_type": "code",
   "execution_count": 7,
   "metadata": {},
   "outputs": [],
   "source": [
    "plot_set = list(strava_data['activities'].keys())[21:27]"
   ]
  },
  {
   "cell_type": "code",
   "execution_count": null,
   "metadata": {},
   "outputs": [],
   "source": []
  },
  {
   "cell_type": "code",
   "execution_count": 8,
   "metadata": {},
   "outputs": [
    {
     "data": {
      "image/png": "[encoded data removed]",
      "text/plain": [
       "<Figure size 504x720 with 2 Axes>"
      ]
     },
     "metadata": {
      "needs_background": "light"
     },
     "output_type": "display_data"
    }
   ],
   "source": [
    "fig, axis = plt.subplots(2,1,sharex=True,figsize=(7,10))\n",
    "\n",
    "for act_id, plot_act in enumerate(plot_set):\n",
    "    act = strava_data[\"activities\"][plot_act]\n",
    "    time_len = len(strava_data['activities'][plot_act]['elpsd_time'][:20])\n",
    "    \n",
    "    axis[0].scatter(range(0,time_len),strava_data['activities'][plot_act]['distance'][:20],\n",
    "                    s=2,label=\"Activity {}\".format(act_id))\n",
    "    axis[0].set_ylabel(\"Distance [m]\")\n",
    "    \n",
    "    axis[1].scatter(range(0,time_len),strava_data['activities'][plot_act]['elpsd_time'][:20],\n",
    "                    s=2)\n",
    "    axis[1].set_ylabel(\"Time [seconds]\")\n",
    "    axis[1].set_xlabel(\"Data Sample\")\n",
    "    \n",
    "    fig.legend(loc=(0.23,0.77))\n",
    "    "
   ]
  },
  {
   "attachments": {},
   "cell_type": "markdown",
   "metadata": {},
   "source": [
    "If the data collection rate was constant, we would expect a straight line for Data Sample vs. Time. Notice how **Activity 1** collects 20 data samples over ~70 seconds while other activities collect at smaller rates! For this reason, we must interpolate the activity before we begin to compare the data as a function of time. See the [interpolation methods](https://thatguyeddieo.github.io/Strava-DataVis/calcs.html#module-calcs.interpolate) in the docs for more information."
   ]
  },
  {
   "cell_type": "code",
   "execution_count": 15,
   "metadata": {},
   "outputs": [],
   "source": [
    "# interpolate data\n",
    "calcintrp.intrp1d(strava_data,'lat_intrp',['elpsd_time','position_lat'],step_size=1)\n",
    "calcintrp.intrp1d(strava_data,'long_intrp',['elpsd_time','position_long'],step_size=1)\n",
    "calcintrp.intrp1d(strava_data,'speed_intrp',['elpsd_time','enhanced_speed'], step_size=1)\n",
    "calcintrp.intrp1d(strava_data,'distance_intrp',['elpsd_time','distance'], step_size=1)\n",
    "calcintrp.intrp1d(strava_data,'elpsd_time_intrp',['elpsd_time','elpsd_time'], step_size=1)"
   ]
  },
  {
   "cell_type": "markdown",
   "metadata": {},
   "source": [
    "Update units' meta data with new parameters created"
   ]
  },
  {
   "cell_type": "code",
   "execution_count": 10,
   "metadata": {},
   "outputs": [],
   "source": [
    "unit_info = {'lat_intrp': 'semicircles',   'long_intrp': 'semicircles',\n",
    "             'speed_intrp': 'm/s',         'elpsd_time': 'seconds',\n",
    "             'distance_intrp': 'm',        'elpsd_time_intrp':'seconds'}\n",
    "strava_data['units'].update(unit_info)"
   ]
  },
  {
   "cell_type": "code",
   "execution_count": null,
   "metadata": {},
   "outputs": [],
   "source": []
  },
  {
   "cell_type": "code",
   "execution_count": 11,
   "metadata": {},
   "outputs": [
    {
     "data": {
      "image/png": "[encoded data removed]",
      "text/plain": [
       "<Figure size 504x720 with 2 Axes>"
      ]
     },
     "metadata": {
      "needs_background": "light"
     },
     "output_type": "display_data"
    }
   ],
   "source": [
    "fig, axis = plt.subplots(2,1,sharex=True,figsize=(7,10))\n",
    "\n",
    "for act_id, plot_act in enumerate(plot_set):\n",
    "    act = strava_data[\"activities\"][plot_act]\n",
    "    time_len = len(strava_data['activities'][plot_act]['elpsd_time_intrp'][:20])\n",
    "    \n",
    "    axis[0].scatter(range(0,time_len),strava_data['activities'][plot_act]['distance_intrp'][:20],\n",
    "                    s=2,label=\"Activity {}\".format(act_id))\n",
    "    axis[0].set_ylabel(\"Distance [m]\")\n",
    "    \n",
    "    axis[1].scatter(range(0,time_len),strava_data['activities'][plot_act]['elpsd_time_intrp'][:20],\n",
    "                    s=2)\n",
    "    axis[1].set_ylabel(\"Time [seconds]\")\n",
    "    axis[1].set_xlabel(\"Interp Sample\")\n",
    "    \n",
    "    fig.legend(loc=(0.23,0.77))"
   ]
  },
  {
   "attachments": {},
   "cell_type": "markdown",
   "metadata": {},
   "source": [
    "Now each activity lines up with time. For this example, notice how the 20 interpolated samples are linearly related to time and the distance graph shows uniformity across its new sample rate."
   ]
  },
  {
   "cell_type": "markdown",
   "metadata": {},
   "source": [
    "## Save Interpolated Data"
   ]
  },
  {
   "cell_type": "code",
   "execution_count": 12,
   "metadata": {},
   "outputs": [
    {
     "name": "stdout",
     "output_type": "stream",
     "text": [
      "Writing to /datasets/Interpolated_Seattle_Dataset/activities.xlsx\n",
      "\tWriting activity 3342746054\n",
      "\tWriting activity 3381305871\n",
      "\tWriting activity 3385302851\n",
      "\tWriting activity 3388256403\n",
      "\tWriting activity 3397678888\n",
      "\tWriting activity 3410342152\n",
      "\tWriting activity 3417012319\n",
      "\tWriting activity 3420132646\n",
      "\tWriting activity 3423242116\n",
      "\tWriting activity 3430723356\n",
      "\tWriting activity 3441153174\n",
      "\tWriting activity 3456862746\n",
      "\tWriting activity 3480735937\n",
      "\tWriting activity 3485732942\n",
      "\tWriting activity 3490211937\n",
      "\tWriting activity 3495267665\n",
      "\tWriting activity 3499648535\n",
      "\tWriting activity 3508784683\n",
      "\tWriting activity 3518644149\n",
      "\tWriting activity 3527816940\n",
      "\tWriting activity 3537904807\n",
      "\tWriting activity 3542379714\n",
      "\tWriting activity 3557969094\n",
      "\tWriting activity 3589532643\n",
      "\tWriting activity 3594941050\n",
      "\tWriting activity 3626718043\n",
      "\tWriting activity 3638095333\n",
      "\tWriting activity 3655153766\n",
      "\tWriting activity 3661269383\n",
      "\tWriting activity 3682625954\n",
      "\tWriting activity 3705655591\n",
      "\tWriting activity 3738995307\n",
      "\tWriting activity 3756546812\n",
      "\tWriting activity 3770596470\n",
      "\tWriting activity 3772523804\n",
      "\tWriting activity 3773019134\n",
      "\tWriting activity 3827312512\n",
      "\tWriting activity 3839190896\n",
      "\tWriting activity 3844321360\n",
      "\tWriting activity 3877507093\n",
      "\tWriting activity 3887246769\n",
      "\tWriting activity 3892981894\n",
      "\tWriting activity 3898953352\n",
      "\tWriting activity 3904046114\n",
      "\tWriting activity 3920456511\n",
      "\tWriting activity 3920670449\n",
      "\tWriting activity 3936357784\n",
      "\tWriting activity 3962013466\n",
      "\tWriting activity 3972879533\n",
      "\tWriting activity 3992273295\n",
      "\tWriting activity 3998798719\n",
      "\tWriting activity 4010839595\n",
      "\tWriting activity 4016028360\n",
      "\tWriting activity 4037630000\n",
      "\tWriting activity 4048922764\n",
      "\tWriting activity 4060787081\n",
      "\tWriting activity 4081992168\n",
      "\tWriting activity 4097616430\n",
      "\tWriting activity 4114636033\n",
      "\tWriting activity 4158311431\n",
      "\tWriting activity 4169034453\n",
      "\tWriting activity 4177917131\n",
      "\tWriting activity 4179929130\n",
      "\tWriting activity 4205465791\n",
      "\tWriting activity 4220049444\n",
      "\tWriting activity 4236163930\n",
      "\tWriting activity 4240890864\n",
      "\tWriting activity 4251046816\n",
      "\tWriting activity 4255878581\n",
      "\tWriting activity 4280744005\n",
      "\tWriting activity 4285704372\n",
      "\tWriting activity 4295201211\n",
      "\tWriting activity 4300729868\n",
      "\tWriting activity 4311274630\n",
      "\tWriting activity 4376652014\n",
      "\tWriting activity 4397090223\n",
      "\tWriting activity 4405369691\n",
      "\tWriting activity 4420257659\n",
      "\tWriting activity 4429831988\n",
      "\tWriting activity 4443391461\n",
      "\tWriting activity 4471145732\n",
      "\tWriting activity 4480332251\n",
      "\tWriting activity 4489984351\n",
      "\tWriting activity 4503027519\n",
      "\tWriting activity 4517617298\n",
      "\tWriting activity 4522099430\n",
      "\tWriting activity 4544696716\n",
      "\tWriting activity 4553718120\n",
      "\tWriting activity 4566934603\n",
      "\tWriting activity 4576879074\n",
      "\tWriting activity 4576881732\n",
      "\tWriting activity 4601512738\n",
      "\tWriting activity 4613142539\n",
      "\tWriting activity 4623531290\n",
      "\tWriting activity 4644072861\n",
      "\tWriting activity 4679180260\n",
      "\tWriting activity 4693624957\n",
      "\tWriting activity 4707850858\n",
      "\tWriting activity 4707851982\n",
      "\tWriting activity 4707852249\n",
      "\tWriting activity 4717572002\n",
      "\tWriting activity 4722274317\n",
      "\tWriting activity 4726916355\n",
      "\tWriting activity 4779470308\n",
      "\tWriting activity 4815022677\n",
      "\tWriting activity 4842184944\n",
      "\tWriting activity 4893009568\n",
      "\tWriting activity 4893009776\n",
      "\tWriting activity 4931366366\n",
      "\tWriting activity 4959962163\n",
      "\tWriting activity 4966006692\n",
      "\tWriting activity 4976396321\n",
      "\tWriting activity 4987636679\n",
      "\tWriting activity 4999074354\n",
      "\tWriting activity 5005775541\n",
      "\tWriting activity 5050047014\n",
      "\tWriting activity 5073150568\n",
      "\tWriting activity 5204216773\n",
      "\tWriting activity 5204220670\n",
      "\tWriting activity 5204224388\n",
      "\tWriting activity 5265013411\n",
      "\tWriting activity 5375397346\n",
      "\tWriting activity 5375398506\n",
      "\tWriting activity 5375399058\n",
      "\tWriting activity 5376302135\n",
      "\tWriting activity 5400143657\n",
      "\tWriting activity 5418838834\n",
      "\tWriting activity 5430651051\n",
      "\tWriting activity 5449225015\n",
      "\tWriting activity 5467236027\n",
      "\tWriting activity 5478086145\n",
      "\tWriting activity 5484706069\n",
      "\tWriting activity 5491300313\n",
      "\tWriting activity 5503733986\n",
      "\tWriting activity 5509998833\n",
      "\tWriting activity 5515738398\n",
      "\tWriting activity 5534295526\n",
      "\tWriting activity 5546474446\n",
      "\tWriting activity 5558275007\n",
      "\tWriting activity 5576040918\n",
      "\tWriting activity 5592850205\n",
      "\tWriting activity 5608805701\n",
      "\tWriting activity 5621378213\n",
      "\tWriting activity 5627267401\n",
      "\tWriting activity 5696099612\n",
      "\tWriting activity 6055756545\n",
      "\tWriting activity 6055756543\n",
      "Done\n"
     ]
    }
   ],
   "source": [
    "new_dir = \"datasets/Interpolated_Seattle_Dataset\"\n",
    "formats.write_xlsx(strava_data,new_dir)\n",
    "print('Done')"
   ]
  },
  {
   "cell_type": "markdown",
   "metadata": {},
   "source": [
    "Save runtime by saving interpolated dataset as a pickle file"
   ]
  },
  {
   "cell_type": "code",
   "execution_count": 13,
   "metadata": {},
   "outputs": [],
   "source": [
    "import os\n",
    "import pickle"
   ]
  },
  {
   "cell_type": "code",
   "execution_count": 14,
   "metadata": {},
   "outputs": [],
   "source": [
    "pickle_file = os.path.join(new_dir,'strava_data.pickle')\n",
    "with open(pickle_file, 'wb') as handle:\n",
    "    pickle.dump(strava_data, handle, protocol=pickle.HIGHEST_PROTOCOL)"
   ]
  }
 ],
 "metadata": {
  "kernelspec": {
   "display_name": "Python 3",
   "language": "python",
   "name": "python3"
  },
  "language_info": {
   "codemirror_mode": {
    "name": "ipython",
    "version": 3
   },
   "file_extension": ".py",
   "mimetype": "text/x-python",
   "name": "python",
   "nbconvert_exporter": "python",
   "pygments_lexer": "ipython3",
   "version": "3.8.3"
  }
 },
 "nbformat": 4,
 "nbformat_minor": 4
}
